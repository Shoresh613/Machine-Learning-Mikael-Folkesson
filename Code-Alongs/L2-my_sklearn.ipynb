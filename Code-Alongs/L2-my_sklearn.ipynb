{
 "cells": [
  {
   "cell_type": "code",
   "execution_count": null,
   "metadata": {},
   "outputs": [],
   "source": []
  },
  {
   "cell_type": "code",
   "execution_count": 5,
   "metadata": {},
   "outputs": [
    {
     "data": {
      "text/html": [
       "<div>\n",
       "<style scoped>\n",
       "    .dataframe tbody tr th:only-of-type {\n",
       "        vertical-align: middle;\n",
       "    }\n",
       "\n",
       "    .dataframe tbody tr th {\n",
       "        vertical-align: top;\n",
       "    }\n",
       "\n",
       "    .dataframe thead th {\n",
       "        text-align: right;\n",
       "    }\n",
       "</style>\n",
       "<table border=\"1\" class=\"dataframe\">\n",
       "  <thead>\n",
       "    <tr style=\"text-align: right;\">\n",
       "      <th></th>\n",
       "      <th>Unnamed: 0</th>\n",
       "      <th>TV</th>\n",
       "      <th>Radio</th>\n",
       "      <th>Newspaper</th>\n",
       "      <th>Sales</th>\n",
       "    </tr>\n",
       "  </thead>\n",
       "  <tbody>\n",
       "    <tr>\n",
       "      <th>0</th>\n",
       "      <td>1</td>\n",
       "      <td>230.1</td>\n",
       "      <td>37.8</td>\n",
       "      <td>69.2</td>\n",
       "      <td>22.1</td>\n",
       "    </tr>\n",
       "    <tr>\n",
       "      <th>1</th>\n",
       "      <td>2</td>\n",
       "      <td>44.5</td>\n",
       "      <td>39.3</td>\n",
       "      <td>45.1</td>\n",
       "      <td>10.4</td>\n",
       "    </tr>\n",
       "    <tr>\n",
       "      <th>2</th>\n",
       "      <td>3</td>\n",
       "      <td>17.2</td>\n",
       "      <td>45.9</td>\n",
       "      <td>69.3</td>\n",
       "      <td>9.3</td>\n",
       "    </tr>\n",
       "    <tr>\n",
       "      <th>3</th>\n",
       "      <td>4</td>\n",
       "      <td>151.5</td>\n",
       "      <td>41.3</td>\n",
       "      <td>58.5</td>\n",
       "      <td>18.5</td>\n",
       "    </tr>\n",
       "    <tr>\n",
       "      <th>4</th>\n",
       "      <td>5</td>\n",
       "      <td>180.8</td>\n",
       "      <td>10.8</td>\n",
       "      <td>58.4</td>\n",
       "      <td>12.9</td>\n",
       "    </tr>\n",
       "  </tbody>\n",
       "</table>\n",
       "</div>"
      ],
      "text/plain": [
       "   Unnamed: 0     TV  Radio  Newspaper  Sales\n",
       "0           1  230.1   37.8       69.2   22.1\n",
       "1           2   44.5   39.3       45.1   10.4\n",
       "2           3   17.2   45.9       69.3    9.3\n",
       "3           4  151.5   41.3       58.5   18.5\n",
       "4           5  180.8   10.8       58.4   12.9"
      ]
     },
     "execution_count": 5,
     "metadata": {},
     "output_type": "execute_result"
    }
   ],
   "source": [
    "import pandas as pd\n",
    "import matplotlib.pyplot as plt\n",
    "import numpy as np\n",
    "\n",
    "df = pd.read_csv('./data/Advertising.csv')\n",
    "df.head()"
   ]
  },
  {
   "cell_type": "code",
   "execution_count": 6,
   "metadata": {},
   "outputs": [
    {
     "data": {
      "text/plain": [
       "(     Unnamed: 0     TV  Radio  Newspaper\n",
       " 0             1  230.1   37.8       69.2\n",
       " 1             2   44.5   39.3       45.1\n",
       " 2             3   17.2   45.9       69.3\n",
       " 3             4  151.5   41.3       58.5\n",
       " 4             5  180.8   10.8       58.4\n",
       " ..          ...    ...    ...        ...\n",
       " 195         196   38.2    3.7       13.8\n",
       " 196         197   94.2    4.9        8.1\n",
       " 197         198  177.0    9.3        6.4\n",
       " 198         199  283.6   42.0       66.2\n",
       " 199         200  232.1    8.6        8.7\n",
       " \n",
       " [200 rows x 4 columns],\n",
       " 0      22.1\n",
       " 1      10.4\n",
       " 2       9.3\n",
       " 3      18.5\n",
       " 4      12.9\n",
       "        ... \n",
       " 195     7.6\n",
       " 196     9.7\n",
       " 197    12.8\n",
       " 198    25.5\n",
       " 199    13.4\n",
       " Name: Sales, Length: 200, dtype: float64)"
      ]
     },
     "execution_count": 6,
     "metadata": {},
     "output_type": "execute_result"
    }
   ],
   "source": [
    "X = df.drop(\"Sales\", axis = 'columns')\n",
    "Y = df[\"Sales\"]\n",
    "\n",
    "X, Y"
   ]
  },
  {
   "cell_type": "markdown",
   "metadata": {},
   "source": [
    "# Steps we will take\n",
    "1. Train | Test split, if algorithm needs separate validation (i.e. k-dolds) we may have to split multiple times\n",
    "2. data processing e.g. polynomial features, scaling, centering etc.\n",
    "3. train, in other words perform regression aka fit to the data\n",
    "4. predict, transform data / apply data\n",
    "5. evaluate, compute metrics, statistics, etc"
   ]
  },
  {
   "cell_type": "code",
   "execution_count": 7,
   "metadata": {},
   "outputs": [],
   "source": [
    "from sklearn.model_selection import train_test_split\n",
    "X_train, X_test, Y_train, Y_test = train_test_split(X, Y, test_size = 0.3, random_state=42)"
   ]
  },
  {
   "cell_type": "code",
   "execution_count": 9,
   "metadata": {},
   "outputs": [
    {
     "name": "stdout",
     "output_type": "stream",
     "text": [
      "0.00 <= scaled_X_train <= 1.00\n",
      "0.01 <= scaled_X_train <= 1.13\n"
     ]
    }
   ],
   "source": [
    "# Scaling the data, i.e. normalizing the data, fitting to the training data and transforming the training and test data\n",
    "\n",
    "from sklearn.preprocessing import MinMaxScaler\n",
    "scaler = MinMaxScaler()\n",
    "scaler.fit(X_train)\n",
    "\n",
    "scaled_X_train = scaler.transform(X_train)\n",
    "scaled_X_test = scaler.transform(X_test)\n",
    "\n",
    "print(f\"{scaled_X_train.min():.2f} <= scaled_X_train <= {scaled_X_train.max():.2f}\")\n",
    "print(f\"{scaled_X_test.min():.2f} <= scaled_X_train <= {scaled_X_test.max():.2f}\")\n"
   ]
  },
  {
   "cell_type": "code",
   "execution_count": 14,
   "metadata": {},
   "outputs": [
    {
     "name": "stdout",
     "output_type": "stream",
     "text": [
      "Parameters: \n",
      "\n",
      "Coefficients: [ 0.02018551 13.02798143  9.88460702  0.69598082]\n",
      "Intercept:2.7309799792161247\n",
      "Score: 0.9055173150726941\n"
     ]
    }
   ],
   "source": [
    "from sklearn.linear_model import LinearRegression\n",
    "\n",
    "model = LinearRegression()\n",
    "model.fit(scaled_X_train, Y_train)\n",
    "\n",
    "print(f\"Parameters: \\n\\nCoefficients: {model.coef_}\\nIntercept:{model.intercept_}\")\n",
    "print(f\"Score: {model.score(scaled_X_train, Y_train)}\")"
   ]
  },
  {
   "cell_type": "code",
   "execution_count": 15,
   "metadata": {},
   "outputs": [
    {
     "data": {
      "text/plain": [
       "array([16.56581778, 21.1804797 , 21.54440211, 10.89594674, 22.20422155,\n",
       "       13.35811188, 21.19371189,  7.35723223, 13.28243942, 15.11907355,\n",
       "        9.01025527,  6.53399652, 14.31067157,  8.9675858 ,  9.46556446,\n",
       "       12.01266538,  8.91173461, 16.160977  , 10.29431598, 18.72083349,\n",
       "       19.77226614, 13.76939567, 12.50085507, 21.53582335,  7.60425655,\n",
       "        5.60788293, 20.91614465, 11.80237377,  9.08337367,  8.51666065,\n",
       "       12.16659861,  9.96068717, 21.72664731, 12.77756633, 18.10644734,\n",
       "       20.07544506, 14.26503177, 20.94306381, 10.84517829,  4.37943779,\n",
       "        9.51113547, 12.41397184, 10.16460264,  8.08293205, 13.1656671 ,\n",
       "        5.23369548,  9.28235707, 14.08483506,  8.69496881, 11.65949021,\n",
       "       15.72025743, 11.63848467, 13.3458554 , 11.1568059 ,  6.33779081,\n",
       "        9.75906265,  9.42324492, 24.25567017,  7.70231778, 12.15200343])"
      ]
     },
     "execution_count": 15,
     "metadata": {},
     "output_type": "execute_result"
    }
   ],
   "source": [
    "# 5. Evaluating the model\n",
    "\n",
    "from sklearn.metrics import mean_absolute_error, mean_squared_error, r2_score\n",
    "\n",
    "y_pred = model.predict(scaled_X_test)\n",
    "y_pred"
   ]
  },
  {
   "cell_type": "code",
   "execution_count": 17,
   "metadata": {},
   "outputs": [
    {
     "name": "stdout",
     "output_type": "stream",
     "text": [
      "MAE: 1.51\n",
      "MSE: 3.80\n",
      "RMSE: 1.95\n",
      "R2: 0.86\n"
     ]
    }
   ],
   "source": [
    "MAE = mean_absolute_error(Y_test, y_pred)\n",
    "MSE = mean_squared_error(Y_test, y_pred)\n",
    "RMSE = np.sqrt(MSE)\n",
    "\n",
    "print(f\"MAE: {MAE:.2f}\\nMSE: {MSE:.2f}\\nRMSE: {RMSE:.2f}\\nR2: {r2_score(Y_test, y_pred):.2f}\")"
   ]
  }
 ],
 "metadata": {
  "kernelspec": {
   "display_name": "Python 3",
   "language": "python",
   "name": "python3"
  },
  "language_info": {
   "codemirror_mode": {
    "name": "ipython",
    "version": 3
   },
   "file_extension": ".py",
   "mimetype": "text/x-python",
   "name": "python",
   "nbconvert_exporter": "python",
   "pygments_lexer": "ipython3",
   "version": "3.11.5"
  }
 },
 "nbformat": 4,
 "nbformat_minor": 2
}
