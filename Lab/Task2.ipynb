{
 "cells": [
  {
   "cell_type": "markdown",
   "metadata": {},
   "source": [
    "# Movie Recommendations task\n",
    "Here the task is to create a model that recommends movies. At first to explore the data and build a simpler model.\n",
    "\n",
    "Thereafter to describe and implement a usual technique for recommendations. Suggested techniqeus are either content-filtering or collaborative-filtering. As collaborative-filtering can offer more diverse recommendations, and also suggest movies that the user might not otherwise have found, this technique was chosen. "
   ]
  },
  {
   "cell_type": "markdown",
   "metadata": {},
   "source": [
    "After preliminary opening of the movielens archive, some limitations were immediately obvious: \n",
    "- To ignore tags.csv, links.csv\n",
    "- From movies.csv use genres column, in ratings.csv all columns.\n",
    "\n",
    "A random subset needed to be selected to perform the training, as 25,000,000 ratings are quite a lot. 200 000 random samples were taken out of the 25M. "
   ]
  },
  {
   "cell_type": "code",
   "execution_count": 1,
   "metadata": {},
   "outputs": [],
   "source": [
    "import pandas as pd\n",
    "import numpy as np\n",
    "import matplotlib.pyplot as plt\n",
    "import seaborn as sns\n",
    "\n",
    "# Load the data\n",
    "movie_df = pd.read_csv('moviedata/movies.csv')\n",
    "rating_df = pd.read_csv('moviedata/ratings.csv')"
   ]
  },
  {
   "cell_type": "markdown",
   "metadata": {},
   "source": [
    "Putting relevant information in one dataframe:"
   ]
  },
  {
   "cell_type": "code",
   "execution_count": 2,
   "metadata": {},
   "outputs": [],
   "source": [
    "rating_df = rating_df.drop('timestamp', axis=1)\n",
    "rating_df = rating_df.dropna()\n",
    "rating_df['title'] = rating_df['movieId'].map(movie_df.set_index('movieId')['title'])"
   ]
  },
  {
   "cell_type": "code",
   "execution_count": 6,
   "metadata": {},
   "outputs": [
    {
     "data": {
      "text/html": [
       "<div>\n",
       "<style scoped>\n",
       "    .dataframe tbody tr th:only-of-type {\n",
       "        vertical-align: middle;\n",
       "    }\n",
       "\n",
       "    .dataframe tbody tr th {\n",
       "        vertical-align: top;\n",
       "    }\n",
       "\n",
       "    .dataframe thead th {\n",
       "        text-align: right;\n",
       "    }\n",
       "</style>\n",
       "<table border=\"1\" class=\"dataframe\">\n",
       "  <thead>\n",
       "    <tr style=\"text-align: right;\">\n",
       "      <th></th>\n",
       "      <th>userId</th>\n",
       "      <th>movieId</th>\n",
       "      <th>rating</th>\n",
       "      <th>genres</th>\n",
       "      <th>title</th>\n",
       "    </tr>\n",
       "  </thead>\n",
       "  <tbody>\n",
       "    <tr>\n",
       "      <th>0</th>\n",
       "      <td>1</td>\n",
       "      <td>296</td>\n",
       "      <td>5.0</td>\n",
       "      <td>Adventure|Animation|Children|Comedy|Fantasy</td>\n",
       "      <td>Pulp Fiction (1994)</td>\n",
       "    </tr>\n",
       "    <tr>\n",
       "      <th>1</th>\n",
       "      <td>1</td>\n",
       "      <td>306</td>\n",
       "      <td>3.5</td>\n",
       "      <td>Adventure|Children|Fantasy</td>\n",
       "      <td>Three Colors: Red (Trois couleurs: Rouge) (1994)</td>\n",
       "    </tr>\n",
       "    <tr>\n",
       "      <th>2</th>\n",
       "      <td>1</td>\n",
       "      <td>307</td>\n",
       "      <td>5.0</td>\n",
       "      <td>Comedy|Romance</td>\n",
       "      <td>Three Colors: Blue (Trois couleurs: Bleu) (1993)</td>\n",
       "    </tr>\n",
       "    <tr>\n",
       "      <th>3</th>\n",
       "      <td>1</td>\n",
       "      <td>665</td>\n",
       "      <td>5.0</td>\n",
       "      <td>Comedy|Drama|Romance</td>\n",
       "      <td>Underground (1995)</td>\n",
       "    </tr>\n",
       "    <tr>\n",
       "      <th>4</th>\n",
       "      <td>1</td>\n",
       "      <td>899</td>\n",
       "      <td>3.5</td>\n",
       "      <td>Comedy</td>\n",
       "      <td>Singin' in the Rain (1952)</td>\n",
       "    </tr>\n",
       "  </tbody>\n",
       "</table>\n",
       "</div>"
      ],
      "text/plain": [
       "   userId  movieId  rating                                       genres  \\\n",
       "0       1      296     5.0  Adventure|Animation|Children|Comedy|Fantasy   \n",
       "1       1      306     3.5                   Adventure|Children|Fantasy   \n",
       "2       1      307     5.0                               Comedy|Romance   \n",
       "3       1      665     5.0                         Comedy|Drama|Romance   \n",
       "4       1      899     3.5                                       Comedy   \n",
       "\n",
       "                                              title  \n",
       "0                               Pulp Fiction (1994)  \n",
       "1  Three Colors: Red (Trois couleurs: Rouge) (1994)  \n",
       "2  Three Colors: Blue (Trois couleurs: Bleu) (1993)  \n",
       "3                                Underground (1995)  \n",
       "4                        Singin' in the Rain (1952)  "
      ]
     },
     "execution_count": 6,
     "metadata": {},
     "output_type": "execute_result"
    }
   ],
   "source": [
    "rating_df.head()"
   ]
  },
  {
   "cell_type": "code",
   "execution_count": 17,
   "metadata": {},
   "outputs": [
    {
     "data": {
      "text/plain": [
       "58958"
      ]
     },
     "execution_count": 17,
     "metadata": {},
     "output_type": "execute_result"
    }
   ],
   "source": [
    "# Checking number of unique movies in the dataset\n",
    "rating_df['title'].nunique()"
   ]
  },
  {
   "cell_type": "markdown",
   "metadata": {},
   "source": [
    "To get a more reasonably sized dataset, sampling 200k rows out of the 25M. "
   ]
  },
  {
   "cell_type": "code",
   "execution_count": 23,
   "metadata": {},
   "outputs": [
    {
     "data": {
      "text/plain": [
       "(200000, 5)"
      ]
     },
     "execution_count": 23,
     "metadata": {},
     "output_type": "execute_result"
    }
   ],
   "source": [
    "smaller_df = rating_df.sample(n=200000, random_state=1)\n",
    "smaller_df.shape"
   ]
  },
  {
   "cell_type": "markdown",
   "metadata": {},
   "source": [
    "Check how many unique movies are in the database:"
   ]
  },
  {
   "cell_type": "code",
   "execution_count": 24,
   "metadata": {},
   "outputs": [
    {
     "data": {
      "text/plain": [
       "13165"
      ]
     },
     "execution_count": 24,
     "metadata": {},
     "output_type": "execute_result"
    }
   ],
   "source": [
    "smaller_df['title'].nunique()"
   ]
  },
  {
   "cell_type": "markdown",
   "metadata": {},
   "source": [
    "Check how many unique movies with 5 star ratings, as that is the metric to use to recommend movies:"
   ]
  },
  {
   "cell_type": "code",
   "execution_count": 28,
   "metadata": {},
   "outputs": [
    {
     "data": {
      "text/plain": [
       "title\n",
       "Shawshank Redemption, The (1994)             334\n",
       "Pulp Fiction (1994)                          266\n",
       "Star Wars: Episode IV - A New Hope (1977)    215\n",
       "Schindler's List (1993)                      210\n",
       "Forrest Gump (1994)                          201\n",
       "                                            ... \n",
       "Scary Movie 4 (2006)                           1\n",
       "One False Move (1992)                          1\n",
       "She's Gotta Have It (1986)                     1\n",
       "Fallen Angels (Duo luo tian shi) (1995)        1\n",
       "Shock Corridor (1963)                          1\n",
       "Name: count, Length: 4408, dtype: int64"
      ]
     },
     "execution_count": 28,
     "metadata": {},
     "output_type": "execute_result"
    }
   ],
   "source": [
    "smaller_df[(smaller_df['rating'] == 5)]['title'].value_counts()"
   ]
  },
  {
   "cell_type": "markdown",
   "metadata": {},
   "source": [
    "4408 movies covers a sufficient portion of the movies, presumably covering most movies most users are likely to like. "
   ]
  },
  {
   "cell_type": "markdown",
   "metadata": {},
   "source": [
    "For the simpler model, let's use tags and genre to predict movie preference. Or only genre? It will be too many features otherwise.\n",
    "One hot encoding of the features? Need to download dataset again."
   ]
  },
  {
   "cell_type": "markdown",
   "metadata": {},
   "source": [
    "## Implementing a simple model\n",
    "\n",
    "A simple linear regression model will be chosen, due to its speed. Or not? I don't know how to implement it actually .. My model was more direct. "
   ]
  },
  {
   "cell_type": "markdown",
   "metadata": {},
   "source": [
    "ChatGPT4: Here's a table that compares Content Filtering and Collaborative Filtering across several dimensions:\n",
    "\n",
    "| Feature                         | Content Filtering                                   | Collaborative Filtering                                      |\n",
    "|---------------------------------|-----------------------------------------------------|--------------------------------------------------------------|\n",
    "| **Data Required**               | Item features (e.g., genre, author)                  | User-item interactions (e.g., ratings, views)                |\n",
    "| **Recommendation Basis**        | Similarity between item features and user preferences| Similarity between users or items based on user interactions |\n",
    "| **Advantages**                  | - Privacy-friendly <br> - Can recommend new items <br> - Transparent reasoning      | - Diverse recommendations <br> - Can discover serendipitous items <br> - Effective without item metadata            |\n",
    "| **Limitations**                 | - Limited by item features <br> - Risk of over-specialization <br> - Cold start problem for new users | - Cold start problem for new users/items <br> - Requires large amounts of data <br> - Scalability issues            |\n",
    "| **Application Examples**        | - E-commerce product recommendations <br> - Online libraries and content platforms | - Movie, music, and book recommendations <br> - E-commerce and social networking sites                             |\n",
    "| **User/Item Newness Handling**  | Can handle new items if item features are available  | Struggles with new users and items due to lack of interaction data                                                 |\n",
    "| **Diversity of Recommendations**| May recommend items too similar to user's past likes | Generally offers more diverse recommendations                |\n",
    "| **Requirement for Metadata**    | High (needs detailed item features)                   | Low (relies on user behavior rather than item specifics)      |\n",
    "\n",
    "My initial feeling when reading about them is that I think collaborative filtering would be more suitable when it comes to movie recommendations, which was corroborated by ChatGPT.\n",
    "\n",
    "Thus genres and tags are not necessary features for this implementation."
   ]
  },
  {
   "cell_type": "code",
   "execution_count": 15,
   "metadata": {},
   "outputs": [
    {
     "name": "stdout",
     "output_type": "stream",
     "text": [
      "Enter a movie you like. The algorithm will then find the most similar movies to the one entered.\n",
      "Break by entering nothing and pressing enter.\n",
      "You entered: ['Pulp Fiction', 'Matrix']\n",
      "Hang on, this will take a while ... \n",
      "Recommended movies based on your input:\n",
      "title\n",
      "Shawshank Redemption, The (1994)    44\n",
      "Fight Club (1999)                   34\n",
      "Silence of the Lambs, The (1991)    34\n",
      "Name: count, dtype: int64\n"
     ]
    }
   ],
   "source": [
    "# First implementing my own movie recommendation algorithm\n",
    "\n",
    "# A user enters at least one movie they like. The algorithm will then find the most similar movies to the one entered.\n",
    "\n",
    "# Say the user enters Pulp Fiction. It will then find all users who rated that movie 5 stars. It will then find all the other movies\n",
    "# those users rated 5 stars and recommend the top 3 of those movies to the user. \n",
    "\n",
    "user_pref_list = []\n",
    "print(\"Enter a movie you like. The algorithm will then find the most similar movies to the one entered.\")\n",
    "print(\"Break by entering nothing and pressing enter.\")\n",
    "while True:\n",
    "    user_pref_list.append(input(\"Enter a movie you like: \"))\n",
    "    if user_pref_list[-1] == \"\":\n",
    "        user_pref_list.pop()\n",
    "        break\n",
    "\n",
    "pattern = '|'.join(user_pref_list).replace(' ', '\\s')\n",
    "\n",
    "print(f\"\\nYou entered: {user_pref_list}\")\n",
    "print(\"Hang on, this will take a while ... \")\n",
    "\n",
    "# Use str.contains() to match the title, ignoring case and allowing for additional characters (like the year in parentheses)\n",
    "# Note: Be aware that this method might also match titles that contain the search string as a substring.\n",
    "user_id_5_star = rating_df[\n",
    "    rating_df['title'].str.contains(pattern, case=False, regex=True) & \n",
    "    (rating_df['rating'] == 5)\n",
    "]['userId']\n",
    "\n",
    "# Sample 10 users who rated the movie 5 stars\n",
    "sample_user_id = user_id_5_star.sample(100, random_state=1)\n",
    "\n",
    "# Find all the movies those users rated 5 stars (this was auto suggested by GitHub Copilot)\n",
    "recommended_movies = rating_df[\n",
    "    rating_df['userId'].isin(sample_user_id) & \n",
    "    ~rating_df['title'].str.contains(pattern, case=False, regex=True) & \n",
    "    (rating_df['rating'] == 5)\n",
    "]['title'].value_counts().head(3)\n",
    "\n",
    "print(\"Recommended movies based on your input:\")\n",
    "print(recommended_movies)"
   ]
  }
 ],
 "metadata": {
  "kernelspec": {
   "display_name": "Python 3",
   "language": "python",
   "name": "python3"
  },
  "language_info": {
   "codemirror_mode": {
    "name": "ipython",
    "version": 3
   },
   "file_extension": ".py",
   "mimetype": "text/x-python",
   "name": "python",
   "nbconvert_exporter": "python",
   "pygments_lexer": "ipython3",
   "version": "3.11.6"
  }
 },
 "nbformat": 4,
 "nbformat_minor": 2
}
